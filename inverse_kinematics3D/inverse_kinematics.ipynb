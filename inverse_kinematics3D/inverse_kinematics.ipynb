{
 "cells": [
  {
   "cell_type": "code",
   "execution_count": 1,
   "metadata": {},
   "outputs": [],
   "source": [
    "\n",
    "import numpy as np\n",
    "from matplotlib import pyplot as plt\n",
    "from mpl_toolkits import mplot3d\n",
    "\n",
    "# import ipywidgets.interact class, this class will represent a slide bar.\n",
    "from ipywidgets import interact\n",
    "import math\n",
    "from numpy import cos as cos\n",
    "from numpy import sin as sin"
   ]
  },
  {
   "cell_type": "code",
   "execution_count": 2,
   "metadata": {},
   "outputs": [
    {
     "data": {
      "text/plain": [
       "'\\n\\nl1,l2,l3 = 10,10,10\\ndef realqs(x,y,angle):\\n    q_z = angle\\n    x2 = x - (l3 * np.cos(q_z))\\n    y2 = y - (l3 * np.sin(q_z))\\n    q2 = (x2**2 + y2**2 - l1**2 - l2**2) / (2 * l1 * l2)\\n    q1 = -np.arctan( (l2* np.cos(q2)) / (l1+(l2 * np.sin(q2)))) + np.arctan(y2/x2)\\n    return q1,q2,q_z\\n    \\nq1,q2,q3 = zip(getq(0.1,15,55))\\nq1,q2,q3 = q1[0],q2[0],q3[0]\\n\\n\\n\\ndef mapping_function(b1,j1,j2,j3):\\n    x = l1 * np.cos(q1) +  l2 * np.cos(q1 + q2) + l3 * np.cos(q1 + q2 + q3)\\n    y = l1 * np.sin(q1) +  l2 * np.sin(q1 + q2) + l3 * np.sin(q1 + q2 + q3)\\n    \\n    print(x, y)\\nmapping_function(0,q1,q2,q3)\\n'"
      ]
     },
     "execution_count": 2,
     "metadata": {},
     "output_type": "execute_result"
    }
   ],
   "source": [
    "# use interact decorator to decorate the function, so the function can receive the slide bar's value with parameter x.\n",
    "# add another slide bar to this function with the interact decorator.   \n",
    "# b1 = base rotation, j1 = joint 1 ,j2 = joint 2, j3 = joint 3 ^ wrist 1\n",
    "'''\n",
    "\n",
    "l1,l2,l3 = 10,10,10\n",
    "def realqs(x,y,angle):\n",
    "    q_z = angle\n",
    "    x2 = x - (l3 * np.cos(q_z))\n",
    "    y2 = y - (l3 * np.sin(q_z))\n",
    "    q2 = (x2**2 + y2**2 - l1**2 - l2**2) / (2 * l1 * l2)\n",
    "    q1 = -np.arctan( (l2* np.cos(q2)) / (l1+(l2 * np.sin(q2)))) + np.arctan(y2/x2)\n",
    "    return q1,q2,q_z\n",
    "    \n",
    "q1,q2,q3 = zip(getq(0.1,15,55))\n",
    "q1,q2,q3 = q1[0],q2[0],q3[0]\n",
    "\n",
    "\n",
    "\n",
    "def mapping_function(b1,j1,j2,j3):\n",
    "    x = l1 * np.cos(q1) +  l2 * np.cos(q1 + q2) + l3 * np.cos(q1 + q2 + q3)\n",
    "    y = l1 * np.sin(q1) +  l2 * np.sin(q1 + q2) + l3 * np.sin(q1 + q2 + q3)\n",
    "    \n",
    "    print(x, y)\n",
    "mapping_function(0,q1,q2,q3)\n",
    "'''\n",
    "\n"
   ]
  },
  {
   "cell_type": "code",
   "execution_count": 3,
   "metadata": {},
   "outputs": [],
   "source": [
    "l1,l2,l3 = 30,30,10\n",
    "def getq(x,y,gripperangle):\n",
    "    print(x,y)\n",
    "    gripperangle = gripperangle * (np.pi / 180)\n",
    "    p0 = np.matrix([[x - l3 * np.cos(gripperangle)],\n",
    "                  [y - l3 * np.sin(gripperangle)]])\n",
    "\n",
    "#     q2 = np.pi - np.arccos((l1*l1 + l2*l2 - (p0.T * p0)) / (2 * l1 * l2))\n",
    "    q2 = np.pi - np.arccos((l1**2 + l2**2 - ( (x - l3 * np.cos(gripperangle))**2 + (y - l3 * np.sin(gripperangle))**2 )) / (2 * l1 * l2))\n",
    "    q2_2 = -np.arccos( ( (p0.T * p0)  - l1*l1 - l2*l2 ) / (2 * l1 * l2))\n",
    "    q1 = np.arctan( (y - l3 * np.sin(gripperangle)) / (x - l3 * np.cos(gripperangle)) ) - np.arctan( (l2 * np.sin(q2)) / (l1 + l2 * np.cos(q2)))\n",
    "    \n",
    "    q1_2 = np.arctan( (y - l3 * np.sin(gripperangle)) / (x - l3 * np.cos(gripperangle)) ) - np.arctan( (l2 * np.sin(q2_2)) / (l1 + l2 * np.cos(q2_2)))\n",
    "    \n",
    "#     q1_2 = q1\n",
    "#     q2_2 = q2\n",
    "    q3 = gripperangle - (q1 + q2)\n",
    "    return np.float(q1), float(q2), float(q3),float(q2_2), float(q1_2)"
   ]
  },
  {
   "cell_type": "code",
   "execution_count": 4,
   "metadata": {},
   "outputs": [
    {
     "data": {
      "application/vnd.jupyter.widget-view+json": {
       "model_id": "0d4fe0890a3d470ab0fb3360298da74e",
       "version_major": 2,
       "version_minor": 0
      },
      "text/plain": [
       "interactive(children=(IntSlider(value=20, description='x', max=40), IntSlider(value=10, description='y', max=4…"
      ]
     },
     "metadata": {},
     "output_type": "display_data"
    }
   ],
   "source": [
    "%matplotlib inline\n",
    "plt.rcParams[\"figure.figsize\"] = (10,7)\n",
    "@interact(x=(0,40),y=(-20,40),gripperangle=(-90,90))\n",
    "def hmpf(x,y,gripperangle):\n",
    "    fig = plt.figure()\n",
    "    ax = plt.axes()\n",
    "    \n",
    "    q1,q2,q3,q2_2,q1_2 = zip(getq(x,y,gripperangle))\n",
    "    q1,q2,q3,q2_2,q1_2 = q1[0],q2[0] ,q3[0], q2_2[0], q1_2[0] \n",
    "    print('Q angles')\n",
    "    print(q1 * (180 / np.pi),q2 * (180 / np.pi),q3 * (180 / np.pi), q1_2 * (180 / np.pi),q2_2 * (180 / np.pi))\n",
    "    \n",
    "    servo1 = q1 \n",
    "    servo2 = q2\n",
    "    servo3 = q3 \n",
    "    servo2_2 = q2_2\n",
    "    servo1_2 = q1_2\n",
    "    \n",
    "    xm = l1 * np.cos(q1) +  l2 * np.cos(q1 + q2) + l3 * np.cos(q1 + q2 + q3)\n",
    "    ym = l1 * np.sin(q1) +  l2 * np.sin(q1 + q2) + l3 * np.sin(q1 + q2 + q3)\n",
    "    arm_pos_vector = np.array([[xm,ym]]).T\n",
    "    \n",
    "    ax.quiver(0,0,x,y, scale=1, angles='xy', scale_units='xy', color='red',alpha=0.8)\n",
    "    ax.quiver(0,0,xm,ym, scale=1, angles='xy', scale_units='xy', color='blue', alpha=0.8)\n",
    "    \n",
    "#     A1\n",
    "    \n",
    "    A1_vector = np.matrix([[np.cos(servo1), -np.sin(servo1)],[np.sin(servo1), np.cos(servo1)]]) * np.matrix([[l1,0]]).T\n",
    "    a1x = A1_vector[0,0]\n",
    "    a1y = A1_vector[1,0]\n",
    "    ax.quiver(0,0,a1x, a1y, scale=1, angles='xy', scale_units='xy', color='green', alpha=0.8)\n",
    "\n",
    "#     A2\n",
    "    A2_vector = (np.matrix([[np.cos(servo1 + servo2), -np.sin(servo1 + servo2)],\n",
    "                             [np.sin(servo1 +servo2), np.cos(servo1 + servo2)]]) * np.matrix([[l2,0]]).T)\n",
    "    a2x = A2_vector[0,0]\n",
    "    a2y = A2_vector[1,0]\n",
    "    ax.quiver(a1x,a1y,a2x, a2y, scale=1, angles='xy', scale_units='xy', color='green', alpha=0.8)\n",
    "    '''\n",
    "    \n",
    "#     EXPERIMENTAL\n",
    "#     A1.2\n",
    "    angle_arm_pos = float(np.arccos( (arm_pos_vector.T * A1_vector) /\n",
    "                              ((np.linalg.norm(arm_pos_vector)) * (np.linalg.norm(A1_vector))) ))\n",
    "    print(f'ANLGE{angle_arm_pos * (180/np.pi)}')\n",
    "    print(angle_arm_pos)\n",
    "    \n",
    "    A1_2Vector = (np.matrix([[np.cos(2*angle_arm_pos), -np.sin(2*angle_arm_pos)],\n",
    "                             [np.sin(2*angle_arm_pos), np.cos(2*angle_arm_pos)]]) * A1_vector)\n",
    "    print(A1_2Vector)\n",
    "    a12x = A1_2Vector[0,0]\n",
    "    a12y = A1_2Vector[1,0]\n",
    "    ax.quiver(0,0,a12x, a12y, scale=1, angles='xy', scale_units='xy', color='yellow', alpha=0.8)\n",
    "                              \n",
    "    \n",
    "    #     A2.2\n",
    "#     A2_2Vector = np.matrix([[np.cos( servo1_2 + servo2_2), -np.sin(servo1_2 + servo2_2)],\n",
    "#                              [np.sin(servo1_2 + servo2_2), np.cos(servo1_2 + servo2_2)]]) * \n",
    "#                   np.matrix([[l2,0]]).T\n",
    "#     a22x = A2_2Vector[0,0]\n",
    "#     a22y = A2_2Vector[1,0]\n",
    "    ax.quiver(a12x,a12y, (a1x + a2x) -a12x ,(a1y + a2y) - a12y, scale=1, angles='xy', scale_units='xy', color='yellow', alpha=0.8)\n",
    "    \n",
    "    '''\n",
    "#     A1\n",
    "    \n",
    "    A1_vector = np.matrix([[np.cos(servo1_2), -np.sin(servo1_2)],[np.sin(servo1_2), np.cos(servo1_2)]]) * np.matrix([[l1,0]]).T\n",
    "    a1x = A1_vector[0,0]\n",
    "    a1y = A1_vector[1,0]\n",
    "    ax.quiver(0,0,a1x, a1y, scale=1, angles='xy', scale_units='xy', color='yellow', alpha=0.8)\n",
    "\n",
    "#     A2\n",
    "    A2_vector = (np.matrix([[np.cos(servo1_2 + servo2_2), -np.sin(servo1_2 + servo2_2)],\n",
    "                             [np.sin(servo1_2 +servo2_2), np.cos(servo1_2 + servo2_2)]]) * np.matrix([[l2,0]]).T)\n",
    "    a2x = A2_vector[0,0]\n",
    "    a2y = A2_vector[1,0]\n",
    "    ax.quiver(a1x,a1y,a2x, a2y, scale=1, angles='xy', scale_units='xy', color='yellow', alpha=0.8)\n",
    "    \n",
    "    \n",
    "#     A3\n",
    "    a3x,a3y = zip(np.matrix([[np.cos(servo1 + servo2 + servo3), -np.sin(servo1 + servo2+servo3)],\n",
    "                             [np.sin(servo1 +servo2+servo3), np.cos(servo1 + servo2+servo3)]]) *\n",
    "                  np.matrix([[l3,0]]).T)\n",
    "    a3x = a3x[0]\n",
    "    a3y = a3y[0]\n",
    "    ax.quiver(a1x + a2x,a1y + a2y,a3x, a3y, scale=1, angles='xy', scale_units='xy', color='green', alpha=0.8)\n",
    "    \n",
    "    ax.set_xlabel('X')\n",
    "    ax.set_xlim(-10,40)\n",
    "    ax.set_ylim(-10,40)\n",
    "    plt.show()"
   ]
  },
  {
   "cell_type": "code",
   "execution_count": 21,
   "metadata": {},
   "outputs": [],
   "source": [
    "l1,l2,l3 = 30,30,10\n",
    "def getq_3D(x,y,z,gripperangle):\n",
    "    \n",
    "    base_angle = np.arctan(y/x) # Bereken de rotatie om de Z as, ookwel de base angle\n",
    "    q0 = base_angle\n",
    "    print(q0)\n",
    "    input_x = np.matrix([[x],\n",
    "                         [y],\n",
    "                         [z]])\n",
    "    #Rotatie van de input coordinaten vector met de minus base angle, dit resulteert in een vector in die \n",
    "    #geen Y component meer heeft, hij bestaat nu alleen in de X-Z plane, \n",
    "    #nu kunnen we met deze output vector de oude 2D inverse kinematics toepassen en krijgen we de juiste angles\n",
    "    #voor de arm\n",
    "    \n",
    "    output_x = np.matrix([[np.cos(-base_angle), -np.sin(-base_angle), 0],\n",
    "                        [np.sin(-base_angle), np.cos(-base_angle),0],[0,0,1]]) * input_x\n",
    "\n",
    "#     2D portion (x, z)-------------------------\n",
    "    \n",
    "    gripperangle = gripperangle * (np.pi / 180)\n",
    "    p0 = np.matrix([[output_x[0,0] - l3 * np.cos(gripperangle)],\n",
    "                  [z - l3 * np.sin(gripperangle)]])\n",
    "#Q2 heeft meerdere oplossingen\n",
    "#     q2 = np.pi - np.arccos((l1*l1 + l2*l2 - (p0.T * p0)) / (2 * l1 * l2))\n",
    "#     q2 = np.pi - np.arccos((l1**2 + l2**2 - ( (output_x[0] - l3 * np.cos(gripperangle))**2 + (y - l3 * np.sin(gripperangle))**2 )) / (2 * l1 * l2))\n",
    "    q2_2 = -np.arccos( ( (p0.T * p0)  - l1*l1 - l2*l2 ) / (2 * l1 * l2))\n",
    "    print(f'Q2 test: { ( (p0.T * p0)  - l1*l1 - l2*l2 ) / (2 * l1 * l2)}')\n",
    "#     q1 = np.arctan( (y - l3 * np.sin(gripperangle)) / (output_x[0] - l3 * np.cos(gripperangle)) ) - np.arctan( (l2 * np.sin(q2)) / (l1 + l2 * np.cos(q2)))\n",
    "    \n",
    "    q1_2 = np.arctan( (z - l3 * np.sin(gripperangle)) / (output_x[0,0] - l3 * np.cos(gripperangle)) ) - np.arctan( (l2 * np.sin(q2_2)) / (l1 + l2 * np.cos(q2_2)))\n",
    "    \n",
    "#     q1_2 = q1\n",
    "#     q2_2 = q2\n",
    "    q3 = gripperangle - (q1_2 + q2_2)\n",
    "    return np.float(q0), float(q1_2), float(q2_2),float(q3), output_x"
   ]
  },
  {
   "cell_type": "code",
   "execution_count": 22,
   "metadata": {},
   "outputs": [
    {
     "data": {
      "application/vnd.jupyter.widget-view+json": {
       "model_id": "0cfdd215983243e8b92a9e749484f968",
       "version_major": 2,
       "version_minor": 0
      },
      "text/plain": [
       "interactive(children=(IntSlider(value=20, description='x', max=40), IntSlider(value=20, description='y', max=4…"
      ]
     },
     "metadata": {},
     "output_type": "display_data"
    }
   ],
   "source": [
    "%matplotlib inline\n",
    "plt.rcParams[\"figure.figsize\"] = (10,7)\n",
    "@interact(x=(0,40),y=(0,40),z=(0,40),gripperangle=(-90,90))\n",
    "def hmpf(x,y,z,gripperangle):\n",
    "    fig = plt.figure()\n",
    "    ax = plt.axes(projection='3d')\n",
    "    \n",
    "    q0,q1,q2,q3,output_x = zip(getq_3D(x,y,z,gripperangle))\n",
    "    \n",
    "    q0= q0[0]\n",
    "    q1= q1[0]\n",
    "    q2= q2[0]\n",
    "    q3= q3[0]\n",
    "    print(f'ANGLES {q0 * (180 / np.pi), q1 * (180 / np.pi), q2 * (180 / np.pi), q3 * (180 / np.pi)}')\n",
    "    \n",
    "       \n",
    "    ax.quiver(0,0,0, x,y,z,  color='red', alpha=0.8)\n",
    "    #PROJECTION ONTO X-Z PLANE  \n",
    "    ax.quiver(0,0,0, output_x[0][0],output_x[0][1],output_x[0][2],  color='darkred', alpha=0.8)\n",
    "    \n",
    "    \n",
    "    base_rotation_matrix = np.matrix([[np.cos(q0), -np.sin(q0),0], \n",
    "                                     [np.sin(q0),np.cos(q0), 0],\n",
    "                                     [0,0,1]])\n",
    "    #A1\n",
    "    A1_vector = base_rotation_matrix * np.matrix([[np.cos(-q1), 0, np.sin(-q1)], \n",
    "                           [0,1,0], \n",
    "                           [-np.sin(-q1),0, np.cos(-q1)] ]) * np.matrix([[l1],[0],[0]])\n",
    "    \n",
    "    ax.quiver(0,0,0, A1_vector[0],A1_vector[1],A1_vector[2],  color='green', alpha=0.8)\n",
    "    \n",
    "     #A2\n",
    "    A2_vector = base_rotation_matrix *  np.matrix([[np.cos( -(q1 + q2)), 0, np.sin(-(q1 + q2))], \n",
    "                           [0,1,0], \n",
    "                           [-np.sin(-(q1 + q2)),0, np.cos(-(q1 + q2))] ]) * np.matrix([[l2],[0],[0]])\n",
    "    \n",
    "    ax.quiver(A1_vector[0],A1_vector[1],A1_vector[2], A2_vector[0],A2_vector[1],A2_vector[2],  color='green', alpha=0.8)\n",
    "    \n",
    "    #A3\n",
    "    A3_vector = base_rotation_matrix * np.matrix([[np.cos( -(q1 + q2 + q3)), 0, np.sin(-(q1 + q2 + q3))], \n",
    "                           [0,1,0], \n",
    "                           [-np.sin(-(q1 + q2 + q3)),0, np.cos(-(q1 + q2 + q3))] ]) * np.matrix([[l3],[0],[0]])\n",
    "    ax.quiver(A1_vector[0] + A2_vector[0],A1_vector[1] + A2_vector[1],A1_vector[2] + A2_vector[2], \n",
    "              A3_vector[0],A3_vector[1],A3_vector[2],  color='green', alpha=0.8)\n",
    "    \n",
    "   \n",
    "    '''\n",
    "    #     Final position of the robot arm\n",
    "    xm = (l1 * np.cos(q1) +  l2 * np.cos(q1 + q2) + l3 * np.cos(q1 + q2 + q3))\n",
    "    ym = 0\n",
    "    zm = l1 * np.sin(q1) +  l2 * np.sin(q1 + q2) + l3 * np.sin(q1 + q2 + q3)\n",
    "    arm_output = np.matrix([[np.cos(-q0), -np.sin(-q0), 0],\n",
    "                        [np.sin(-q0), np.cos(-q0),0],\n",
    "                            [0,0,1]]) * np.matrix([[xm],[ym], [zm]])\n",
    "    \n",
    "    ax.quiver(0,0,0,arm_output[0],arm_output[1],arm_output[2],  color='yellow', alpha=0.8)\n",
    "    '''\n",
    "\n",
    "    \n",
    "    ax.set_xlabel('X')\n",
    "    ax.set_ylabel('Y')\n",
    "    ax.set_zlabel('Z')           \n",
    "    ax.set_xlim(0,40)\n",
    "    ax.set_ylim(0,40)\n",
    "    ax.set_zlim(0,40)\n",
    "    plt.show()"
   ]
  },
  {
   "cell_type": "code",
   "execution_count": null,
   "metadata": {},
   "outputs": [],
   "source": []
  },
  {
   "cell_type": "code",
   "execution_count": null,
   "metadata": {},
   "outputs": [],
   "source": []
  },
  {
   "cell_type": "code",
   "execution_count": null,
   "metadata": {},
   "outputs": [],
   "source": []
  },
  {
   "cell_type": "code",
   "execution_count": null,
   "metadata": {},
   "outputs": [],
   "source": [
    "    Serial.print(\"MATRIX P0: \");"
   ]
  },
  {
   "cell_type": "code",
   "execution_count": null,
   "metadata": {},
   "outputs": [],
   "source": [
    "                  "
   ]
  },
  {
   "cell_type": "code",
   "execution_count": null,
   "metadata": {},
   "outputs": [],
   "source": []
  },
  {
   "cell_type": "code",
   "execution_count": null,
   "metadata": {},
   "outputs": [],
   "source": []
  },
  {
   "cell_type": "code",
   "execution_count": null,
   "metadata": {},
   "outputs": [],
   "source": []
  },
  {
   "cell_type": "code",
   "execution_count": null,
   "metadata": {},
   "outputs": [],
   "source": []
  }
 ],
 "metadata": {
  "kernelspec": {
   "display_name": "Python 3",
   "language": "python",
   "name": "python3"
  },
  "language_info": {
   "codemirror_mode": {
    "name": "ipython",
    "version": 3
   },
   "file_extension": ".py",
   "mimetype": "text/x-python",
   "name": "python",
   "nbconvert_exporter": "python",
   "pygments_lexer": "ipython3",
   "version": "3.8.5"
  }
 },
 "nbformat": 4,
 "nbformat_minor": 4
}
